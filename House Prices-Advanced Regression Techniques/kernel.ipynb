{
  "cells": [
    {
      "metadata": {
        "trusted": true,
        "collapsed": true,
        "_uuid": "5d6fa4394392014e61fc5f4c92edc4dc41417944"
      },
      "cell_type": "markdown",
      "source": "**Data Exploration**\n\nOne of the most difficult thing or the problem in data analysis is most of the time we dont know our data. Even though every thing is in front of us.Still we remain far from the reality. So its good to first explore and know your data before jumping into the analysis phase.\n"
    },
    {
      "metadata": {
        "trusted": true,
        "collapsed": true,
        "_uuid": "c85d42750c17a30d6297a6698607d03ad9a92ea6"
      },
      "cell_type": "code",
      "source": "#Importing important libraries\nimport pandas as pd\nimport matplotlib.pyplot as plt\nimport seaborn as sns\nimport numpy as np\nfrom scipy.stats import norm\nfrom sklearn.preprocessing import StandardScaler\nfrom scipy import stats\nimport warnings\nwarnings.filterwarnings('ignore')\n%matplotlib inline\n",
      "execution_count": null,
      "outputs": []
    },
    {
      "metadata": {
        "trusted": true,
        "_uuid": "872b38c998fa9edfcc9ebd12f5122824b7a285f7",
        "collapsed": true
      },
      "cell_type": "code",
      "source": "#Bring in the train data\ntrain_df=pd.read_csv('../input/house-prices-advanced-regression-techniques/train.csv')",
      "execution_count": null,
      "outputs": []
    },
    {
      "metadata": {
        "trusted": true,
        "_uuid": "3525ebaeae81e9ad8fb8f8271af66276197453d3",
        "collapsed": true
      },
      "cell_type": "code",
      "source": "#Columns in our data\ntrain_df.columns",
      "execution_count": null,
      "outputs": []
    },
    {
      "metadata": {
        "_uuid": "ddfa2ab84bf7e0dbf44bd8c24fb301e398395f7a"
      },
      "cell_type": "markdown",
      "source": "**So what now..?**\n\nIn order to get a better insight of our data is we need to get familiar with the features or columns pressent in our data.I know its a tedious job to go through each and every column but in ling run its really useful because it will tell use which features are going to affect our predections or are going to be useful for our target predictions."
    },
    {
      "metadata": {
        "trusted": true,
        "collapsed": true,
        "_uuid": "3665cde927ebc42c1cef2eb44512d853a1e24b7c"
      },
      "cell_type": "markdown",
      "source": "**First we should analyze our sales price**"
    },
    {
      "metadata": {
        "trusted": true,
        "_uuid": "7de02881efd18933978869406f03b3182174a91b",
        "collapsed": true
      },
      "cell_type": "code",
      "source": "train_df['SalePrice'].describe()",
      "execution_count": null,
      "outputs": []
    },
    {
      "metadata": {
        "_uuid": "80cf230621773f9b61d63a497b9c11900216ef84"
      },
      "cell_type": "markdown",
      "source": "*So Here as we saw min sales price is 34900 so its obvisouly greater than zero.It kinda tells that our train data is realistic enough.*"
    },
    {
      "metadata": {
        "trusted": true,
        "_uuid": "b5f122dcca37cb37f0677cd53274f0f6a898fec7",
        "collapsed": true
      },
      "cell_type": "code",
      "source": "#plot of our sales price\nsns.distplot(train_df['SalePrice']);",
      "execution_count": null,
      "outputs": []
    },
    {
      "metadata": {
        "_uuid": "1afdf42947b0d5b0466b1e8685eaded053ee3b45"
      },
      "cell_type": "markdown",
      "source": "* **Okay so this tells our sales price is not noramlly distributes.**\n* **And is kinda positevly skewed**"
    },
    {
      "metadata": {
        "trusted": true,
        "_uuid": "23b9bfd8e1a13aba4c7bec3de18cdb2894be915a",
        "collapsed": true
      },
      "cell_type": "code",
      "source": "#Lets check if we are right\nprint('skweness %f'% train_df['SalePrice'].skew())\nprint('Kurtness %f'% train_df['SalePrice'].kurt())",
      "execution_count": null,
      "outputs": []
    },
    {
      "metadata": {
        "_uuid": "c179f350a57dd0d55cee259b16e4561c65aeac68"
      },
      "cell_type": "markdown",
      "source": "*OHkay so we were right as calculated skewness is nowhere close to 0 so hence data isnt normally disrtibuted or is not symmetrical and because kurtness is more than 3 so the data has a heavy peak.*"
    },
    {
      "metadata": {
        "_uuid": "53fe98c5c16c0d190b19a7df8f7a62463d04d2dc"
      },
      "cell_type": "markdown",
      "source": "**SalePrice relationship with other features**\n\nNow that we know a bit about our saleprice distributions lets study its relationships with other features in our data -set"
    },
    {
      "metadata": {
        "trusted": true,
        "_uuid": "365b2e1063272bcfcd99f27893271a01a5dafab8",
        "collapsed": true
      },
      "cell_type": "code",
      "source": "#Scatter plot between salprice and grlivearea\nGrliveAr_Sp=pd.concat([train_df['GrLivArea'],train_df['SalePrice']],axis=1);\nGrliveAr_Sp.plot.scatter(x='GrLivArea',y='SalePrice',ylim=(0,800000))",
      "execution_count": null,
      "outputs": []
    },
    {
      "metadata": {
        "trusted": true,
        "collapsed": true,
        "_uuid": "7f3a9d38a8497278d99a95996659c0fd509e6484"
      },
      "cell_type": "markdown",
      "source": "*wokayy!So SalePrice and GrlivArea kinda have a strong relationship(Linear Relationship) beween them*"
    },
    {
      "metadata": {
        "_uuid": "932fe82eb382ccbc766f150029f34c8dd224978a"
      },
      "cell_type": "markdown",
      "source": "> Time to check SalePrice VS TotalBsmtSF"
    },
    {
      "metadata": {
        "trusted": true,
        "_uuid": "ed7628ef17be80263839dd2c8d83705354a0d242",
        "collapsed": true
      },
      "cell_type": "code",
      "source": "TotalBsmtSF_sp=pd.concat([train_df['TotalBsmtSF'],train_df['SalePrice']],axis=1)\nTotalBsmtSF_sp.plot.scatter(x='TotalBsmtSF',y='SalePrice',ylim=(0,800000))",
      "execution_count": null,
      "outputs": []
    },
    {
      "metadata": {
        "_uuid": "6ccee4257d3c9caf8e903a49ed7bf066202b70c5"
      },
      "cell_type": "markdown",
      "source": "*Here also we can observe a strong relationship*\nBut wait there is a outlier in our data when TotalBsmtSF is 6000 ."
    },
    {
      "metadata": {
        "_uuid": "ae0b710f2f45c37a799b946a29b1063988b48c10"
      },
      "cell_type": "markdown",
      "source": "**Relationship with categorical features**"
    },
    {
      "metadata": {
        "trusted": true,
        "_uuid": "edf31557c2641c40d4e28f246560a1016f845888",
        "collapsed": true
      },
      "cell_type": "code",
      "source": "#box plot overallqual/saleprice\nOverallQual_sp=pd.concat([train_df['OverallQual'],train_df['SalePrice']],axis=1)\nplt.subplots(figsize=(8, 6))\nsns.boxplot(x='OverallQual',y='SalePrice',data=OverallQual_sp)",
      "execution_count": null,
      "outputs": []
    },
    {
      "metadata": {
        "trusted": true,
        "collapsed": true,
        "_uuid": "7d7f73b93cbc4031e88c85415cb651915fc89321"
      },
      "cell_type": "markdown",
      "source": "Apart from some outliers saleprice goes pretty well with overallQall too.."
    },
    {
      "metadata": {
        "trusted": true,
        "_uuid": "6a551b93d4b553712e2215ca1e47575249049251",
        "collapsed": true
      },
      "cell_type": "code",
      "source": "var = 'YearBuilt'\ndata = pd.concat([train_df['SalePrice'], train_df[var]], axis=1)\nf, ax = plt.subplots(figsize=(16, 8))\nfig = sns.boxplot(x=var, y=\"SalePrice\", data=data)\nfig.axis(ymin=0, ymax=800000);\nplt.xticks(rotation=90);",
      "execution_count": null,
      "outputs": []
    },
    {
      "metadata": {
        "trusted": true,
        "collapsed": true,
        "_uuid": "b836833a4b45439b040f23d83345800fb887fa7f"
      },
      "cell_type": "markdown",
      "source": "**This plot between saleprice and year built dosent really shows a strong relationship between sales price but one thing we can undeerstand from this plot is that houses built in recent years have high prices**"
    },
    {
      "metadata": {
        "_uuid": "5c112212fbb2a09286da2105a65288f0772f7896"
      },
      "cell_type": "markdown",
      "source": "**Lets improve our approach....!**\n\nTill now e followed our intitution and just checked the relationship which we though were strong between saleprice but if we keep follwing this approach we will end up in a long tidious and messey exploration so let's try something.\nsomething via which we can understand the realtionship of all the features with saleprice..\nwhat is it then..? \nthe answer is .\n\n**A correlation heatmap**"
    },
    {
      "metadata": {
        "trusted": true,
        "_uuid": "156efb936e4c45ce782fd7737221f3cde3c681e8",
        "collapsed": true
      },
      "cell_type": "code",
      "source": "correlation=train_df.corr()\nf, ax = plt.subplots(figsize=(12, 9))\nsns.heatmap(correlation,vmax=0.9,square=True)",
      "execution_count": null,
      "outputs": []
    },
    {
      "metadata": {
        "trusted": true,
        "_uuid": "968c2eafe25971bb1f64a902f2dd00c81e4223f2",
        "collapsed": true
      },
      "cell_type": "code",
      "source": "#saleprice correlation matrix\nk = 10 #number of variables for heatmap\ncols = correlation.nlargest(k, 'SalePrice')['SalePrice'].index\ncm = np.corrcoef(train_df[cols].values.T)\nsns.set(font_scale=1.25)\nf, ax = plt.subplots(figsize=(10, 8))\nhm = sns.heatmap(cm, cbar=True, annot=True, square=True, fmt='.2f', annot_kws={'size': 10}, yticklabels=cols.values, xticklabels=cols.values)\nplt.show()\n",
      "execution_count": null,
      "outputs": []
    },
    {
      "metadata": {
        "trusted": true,
        "_uuid": "79fe32cbb4882015ddcf9d9570d6a2c385e93cf9",
        "collapsed": true
      },
      "cell_type": "code",
      "source": "sns.set()\ncols = ['SalePrice', 'OverallQual', 'GrLivArea', 'GarageCars', 'TotalBsmtSF', 'FullBath', 'YearBuilt']\nsns.pairplot(train_df[cols], size = 2.5)\nplt.show();",
      "execution_count": null,
      "outputs": []
    },
    {
      "metadata": {
        "trusted": true,
        "collapsed": true,
        "_uuid": "52cc43aa09a48b0f0a7a1e75088640374b6b8d7b"
      },
      "cell_type": "markdown",
      "source": "**Time to deal with missing data in our dataset**"
    },
    {
      "metadata": {
        "trusted": true,
        "_uuid": "2940feed397dba4366b7368f979c818c421738c9",
        "collapsed": true
      },
      "cell_type": "code",
      "source": "total_Null=train_df.isnull().sum().sort_values(ascending=False)\npercent=(train_df.isnull().sum()/train_df.isnull().count()).sort_values(ascending=False)\nmissing_data = pd.concat([total_Null, percent], axis=1, keys=['Total', 'Percent'])\nmissing_data.head(20)",
      "execution_count": null,
      "outputs": []
    },
    {
      "metadata": {
        "trusted": true,
        "_uuid": "6cab5ef703e1bd31cdccd43bee402faa2631ae2c",
        "collapsed": true
      },
      "cell_type": "code",
      "source": "#dealing with missing data\ntrain_df = train_df.drop((missing_data[missing_data['Total'] > 1]).index,1)\ntrain_df = train_df.drop(train_df.loc[train_df['Electrical'].isnull()].index)\ntrain_df.isnull().sum().max() \n#just checking that there's no missing data missing anymore",
      "execution_count": null,
      "outputs": []
    },
    {
      "metadata": {
        "trusted": true,
        "_uuid": "a7b9f11da4cee55bec40ae6a99b67b52969b29de",
        "collapsed": true
      },
      "cell_type": "code",
      "source": "len(train_df.columns)",
      "execution_count": null,
      "outputs": []
    },
    {
      "metadata": {
        "trusted": true,
        "collapsed": true,
        "_uuid": "dd45f9e72cbf686eb40dc99a14bdad22e1e8b99c"
      },
      "cell_type": "markdown",
      "source": "**Our liars**"
    },
    {
      "metadata": {
        "_uuid": "e325a86c62f40f0394c11ad5f402be2345553018"
      },
      "cell_type": "markdown",
      "source": "*Outliers can markedly affect our models and can be a valuable source of information, providing us insights about specific behaviours.*\n*Outliers is a complex subject and it deserves more attention. Here, we'll just do a quick analysis through the standard deviation of 'SalePrice' and a set of scatter plots.*"
    },
    {
      "metadata": {
        "trusted": true,
        "_uuid": "8e4f458867bf891fcbbb084c7a7b5db908a22ab0",
        "collapsed": true
      },
      "cell_type": "code",
      "source": "#standardizing data\nsaleprice_scaled = StandardScaler().fit_transform(train_df['SalePrice'][:,np.newaxis]);\nlow_range = saleprice_scaled[saleprice_scaled[:,0].argsort()][:10]\nhigh_range= saleprice_scaled[saleprice_scaled[:,0].argsort()][-10:]\nprint('outer range (low) of the distribution:')\nprint(low_range)\nprint('\\nouter range (high) of the distribution:')\nprint(high_range)",
      "execution_count": null,
      "outputs": []
    },
    {
      "metadata": {
        "trusted": true,
        "_uuid": "8cd5b41167853970b26de275889033a1155885d2",
        "collapsed": true
      },
      "cell_type": "code",
      "source": "train_df.sort_values(by='GrLivArea',ascending=False)[:2]",
      "execution_count": null,
      "outputs": []
    },
    {
      "metadata": {
        "trusted": true,
        "_uuid": "c3464ff617d403de181246b825f4c51d741c226c",
        "collapsed": true
      },
      "cell_type": "code",
      "source": "train_df=train_df.drop(train_df[train_df['Id']==1298].index)\ntrain_df=train_df.drop(train_df[train_df['Id']==524].index)\n",
      "execution_count": null,
      "outputs": []
    },
    {
      "metadata": {
        "trusted": true,
        "collapsed": true,
        "_uuid": "ad91c7b6ffccf5c19db1bfb10fc011265a97328c"
      },
      "cell_type": "markdown",
      "source": "**Do we know salePrice ..?\n**\n\nThe question might sound silly at first but we need to answe it .\nWe have to know who is salePrice \nWhat trends does it shows us"
    },
    {
      "metadata": {
        "_uuid": "d6ef00f7aabdc1e15dc86840bf0d5a3b8846c894"
      },
      "cell_type": "markdown",
      "source": "**Is SalePrice normal..?**"
    },
    {
      "metadata": {
        "trusted": true,
        "_uuid": "31b708ea4a1b770dc8eb767ba17b6ec8e312645c",
        "collapsed": true
      },
      "cell_type": "code",
      "source": "sns.distplot(train_df['SalePrice'],fit=norm)",
      "execution_count": null,
      "outputs": []
    },
    {
      "metadata": {
        "_uuid": "8f1b424736d20f78baad2fd37808aedceefcdc02"
      },
      "cell_type": "markdown",
      "source": "So We have answered our question \nSale Price isnt normal for sure."
    },
    {
      "metadata": {
        "trusted": true,
        "_uuid": "06dde4c11e3d658db4d054c96d8bf7ea71c94d0f",
        "collapsed": true
      },
      "cell_type": "code",
      "source": "sts=stats.probplot(train_df['SalePrice'],plot=plt)",
      "execution_count": null,
      "outputs": []
    },
    {
      "metadata": {
        "_uuid": "8cc78f2877662e7871fd618e241ce9cd4e9e3919"
      },
      "cell_type": "markdown",
      "source": "Its clear again that it isnt normal because it dosent follow the diagnoal part"
    },
    {
      "metadata": {
        "trusted": true,
        "_uuid": "7a65262a452ba872aa1df9556e9be48faabde85c",
        "collapsed": true
      },
      "cell_type": "code",
      "source": "#to deal with this issue we apply lograthmic transformation\ntrain_df['SalePrice'] = np.log(train_df['SalePrice'])\n",
      "execution_count": null,
      "outputs": []
    },
    {
      "metadata": {
        "trusted": true,
        "_uuid": "84c58513759874f49acb07ad45fd74b9fa9883ad",
        "collapsed": true
      },
      "cell_type": "code",
      "source": "",
      "execution_count": null,
      "outputs": []
    },
    {
      "metadata": {
        "trusted": true,
        "_uuid": "08aa6cae2c505eedc241e4c7d7e002d471518c54",
        "collapsed": true
      },
      "cell_type": "code",
      "source": "sns.distplot(train_df['SalePrice'],fit=norm)",
      "execution_count": null,
      "outputs": []
    },
    {
      "metadata": {
        "trusted": true,
        "_uuid": "8e081d54017677a36a31cbd42058900089d19b5e",
        "collapsed": true
      },
      "cell_type": "code",
      "source": "sts=stats.probplot(train_df['SalePrice'],plot=plt)",
      "execution_count": null,
      "outputs": []
    },
    {
      "metadata": {
        "_uuid": "69c8f70466a80082e6ab0aeddba1a58d12da136e"
      },
      "cell_type": "markdown",
      "source": "**Problem solved hurray!!**"
    },
    {
      "metadata": {
        "trusted": true,
        "_uuid": "7d308959212ec5c5f8d93b5ec66ddd44ce67ac5f",
        "collapsed": true
      },
      "cell_type": "code",
      "source": "#histogram and normal probability plot\nsns.distplot(train_df['GrLivArea'], fit=norm);\nfig = plt.figure()\nres = stats.probplot(train_df['GrLivArea'], plot=plt)\n",
      "execution_count": null,
      "outputs": []
    },
    {
      "metadata": {
        "trusted": true,
        "collapsed": true,
        "_uuid": "f8637a90beb2c4f01fc9fcdb6f4071b4c8ea7ec6"
      },
      "cell_type": "code",
      "source": "#to deal with this issue we apply lograthmic transformation\ntrain_df['GrLivArea'] = np.log(train_df['GrLivArea'])\n",
      "execution_count": null,
      "outputs": []
    },
    {
      "metadata": {
        "trusted": true,
        "_uuid": "7c33cae755e1eb5bb5634a49784524e0f3335119",
        "collapsed": true
      },
      "cell_type": "code",
      "source": "#histogram and normal probability plot\nsns.distplot(train_df['GrLivArea'], fit=norm);\nfig = plt.figure()\nres = stats.probplot(train_df['GrLivArea'], plot=plt)\n",
      "execution_count": null,
      "outputs": []
    },
    {
      "metadata": {
        "trusted": true,
        "_uuid": "c9e789710c3b17315964ea542eec7c12de2dc283",
        "collapsed": true
      },
      "cell_type": "code",
      "source": "#histogram and normal probability plot\nsns.distplot(train_df['TotalBsmtSF'], fit=norm);\nfig = plt.figure()\nres = stats.probplot(train_df['TotalBsmtSF'], plot=plt)\n",
      "execution_count": null,
      "outputs": []
    },
    {
      "metadata": {
        "_uuid": "ab2bf2c93b3f30d6e423f279cf417d12363e650a"
      },
      "cell_type": "markdown",
      "source": "***As we can see there a number of houses with no basement and value zero dosent allow us to do log transformations.***"
    },
    {
      "metadata": {
        "trusted": true,
        "collapsed": true,
        "_uuid": "09150ad5b2bbbcdb84c5dbfaaf899cbd95e47824"
      },
      "cell_type": "markdown",
      "source": "So what should we do to deal with it .?"
    },
    {
      "metadata": {
        "trusted": true,
        "_uuid": "4f1feea68de5258300da989b7bd3080c7b45984f",
        "collapsed": true
      },
      "cell_type": "code",
      "source": "train_df['HasBasement']=pd.Series(len(train_df['TotalBsmtSF']),index=train_df.index)\ntrain_df['HasBasement']=0",
      "execution_count": null,
      "outputs": []
    },
    {
      "metadata": {
        "trusted": true,
        "collapsed": true,
        "_uuid": "e4af778b1717ead6f72dd31d3544b5571df58aa3"
      },
      "cell_type": "code",
      "source": "train_df.loc[train_df['TotalBsmtSF']>0,'HasBasement']=1",
      "execution_count": null,
      "outputs": []
    },
    {
      "metadata": {
        "trusted": true,
        "_uuid": "aa935e3a30db5959398f03f3e7c6badbc6a01823",
        "collapsed": true
      },
      "cell_type": "code",
      "source": "#transform data\ntrain_df.loc[train_df['HasBasement']==1,'TotalBsmtSF'] = np.log(train_df['TotalBsmtSF'])",
      "execution_count": null,
      "outputs": []
    },
    {
      "metadata": {
        "trusted": true,
        "_uuid": "54406a4a01a3cab5045e8bec191b44e2a379ae4f",
        "collapsed": true
      },
      "cell_type": "code",
      "source": "sns.distplot(train_df[train_df['TotalBsmtSF']>0]['TotalBsmtSF'], fit=norm);\nfig = plt.figure()\nres = stats.probplot(train_df[train_df['TotalBsmtSF']>0]['TotalBsmtSF'], plot=plt)\n",
      "execution_count": null,
      "outputs": []
    },
    {
      "metadata": {
        "trusted": true,
        "_uuid": "02026d2c7f33435eec91d1989c63cf1f0412ff02",
        "collapsed": true
      },
      "cell_type": "code",
      "source": "#scatter plot\nplt.scatter(train_df['GrLivArea'], train_df['SalePrice']);\n",
      "execution_count": null,
      "outputs": []
    },
    {
      "metadata": {
        "trusted": true,
        "_uuid": "d3428ae52c8194f005223965de12476843a91253",
        "collapsed": true
      },
      "cell_type": "code",
      "source": "train_df=pd.get_dummies(train_df)",
      "execution_count": null,
      "outputs": []
    },
    {
      "metadata": {
        "trusted": true,
        "_uuid": "bd77af1dd90e61eb5b4936e420ed88a0468a22fc",
        "collapsed": true
      },
      "cell_type": "code",
      "source": "",
      "execution_count": null,
      "outputs": []
    },
    {
      "metadata": {
        "trusted": true,
        "collapsed": true,
        "_uuid": "4c86d94226013344bcfc981da78c78caf13213e4"
      },
      "cell_type": "code",
      "source": "",
      "execution_count": null,
      "outputs": []
    }
  ],
  "metadata": {
    "language_info": {
      "name": "python",
      "version": "3.6.5",
      "mimetype": "text/x-python",
      "codemirror_mode": {
        "name": "ipython",
        "version": 3
      },
      "pygments_lexer": "ipython3",
      "nbconvert_exporter": "python",
      "file_extension": ".py"
    },
    "kernelspec": {
      "display_name": "Python 3",
      "language": "python",
      "name": "python3"
    }
  },
  "nbformat": 4,
  "nbformat_minor": 1
}